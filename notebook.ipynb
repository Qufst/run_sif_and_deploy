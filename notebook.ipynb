{
 "cells": [
  {
   "cell_type": "code",
   "execution_count": null,
   "metadata": {},
   "outputs": [],
   "source": [
    "import numpy as np\n",
    "\n",
    "# Création d'un tableau numpy\n",
    "a = np.array([1, 2, 3, 4, 5])\n",
    "print(\"Tableau numpy:\", a)\n",
    "\n",
    "# Calcul de la moyenne\n",
    "moyenne = np.mean(a)\n",
    "print(\"Moyenne:\", moyenne)\n",
    "\n",
    "# Calcul de l'écart type\n",
    "ecart_type = np.std(a)\n",
    "print(\"Écart type:\", ecart_type)\n"
   ]
  }
 ],
 "metadata": {
  "language_info": {
   "name": "python"
  }
 },
 "nbformat": 4,
 "nbformat_minor": 2
}
