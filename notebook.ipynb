{
 "cells": [
  {
   "cell_type": "code",
   "execution_count": null,
   "metadata": {},
   "outputs": [],
   "source": [
    "{\n",
    " \"cells\": [\n",
    "  {\n",
    "   \"cell_type\": \"code\",\n",
    "   \"execution_count\": null,\n",
    "   \"metadata\": {},\n",
    "   \"outputs\": [],\n",
    "   \"source\": [\n",
    "    \"import numpy as np\\n\",\n",
    "    \"\\n\",\n",
    "    \"# Création d'un tableau numpy\\n\",\n",
    "    \"a = np.array([1, 2, 3, 4, 5])\\n\",\n",
    "    \"print(\\\"Tableau numpy:\\\", a)\\n\",\n",
    "    \"\\n\",\n",
    "    \"# Calcul de la moyenne\\n\",\n",
    "    \"moyenne = np.mean(a)\\n\",\n",
    "    \"print(\\\"Moyenne:\\\", moyenne)\\n\",\n",
    "    \"\\n\",\n",
    "    \"# Calcul de l'écart type\\n\",\n",
    "    \"ecart_type = np.std(a)\\n\",\n",
    "    \"print(\\\"Écart type:\\\", ecart_type)\\n\"\n",
    "   ]\n",
    "  }\n",
    " ],\n",
    " \"metadata\": {\n",
    "  \"language_info\": {\n",
    "   \"name\": \"python\"\n",
    "  }\n",
    " },\n",
    " \"nbformat\": 4,\n",
    " \"nbformat_minor\": 2\n",
    "}"
   ]
  }
 ],
 "metadata": {
  "language_info": {
   "name": "python"
  }
 },
 "nbformat": 4,
 "nbformat_minor": 2
}
